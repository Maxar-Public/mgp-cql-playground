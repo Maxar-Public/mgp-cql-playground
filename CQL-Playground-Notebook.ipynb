{
 "cells": [
  {
   "cell_type": "markdown",
   "id": "1a95842d-7d83-4901-ab07-35aaf730805b",
   "metadata": {},
   "source": [
    "# CQL Playground\n",
    "\n",
    "## Overview\n",
    "\n",
    "The **CQL Playground** allows users to interact with Maxar's imagery services through filtering and sorting capabilities via WFS and WMS. \n",
    "- With **WFS**, you can retrieve detailed metadata for basemap imagery that matches specific criteria, such as location, acquisition date, and cloud coverage.\n",
    "- **WMS** provides a visual representation of the basemap imagery directly on a map. This tool enables efficient exploration and visualization of Maxar's Vivid Basemaps for research and analysis."
   ]
  },
  {
   "cell_type": "markdown",
   "id": "a2f4dd2a-187e-4e79-bf4b-1307930751a6",
   "metadata": {},
   "source": [
    "## API Key Validation Process\n",
    "\n",
    "The following cell validates the Maxar API key provided by the user. It performs the following tasks:\n",
    "\n",
    "1. **User Input for API Key**:  \n",
    "   The user is prompted to securely input their Maxar API key, which is required to access Maxar services.\n",
    "\n",
    "2. **Validate API Key**:  \n",
    "   A specific URL is used to verify the API key's validity. While this endpoint is not explicitly designed for validation, it reliably indicates whether the key is valid:\n",
    "   - If the server returns a `200` status code, the API key is valid.\n",
    "   - Any other status code indicates the key is invalid.\n",
    "     \n",
    "3. **Send API Request**:  \n",
    "   A `HEAD` request is sent to the URL, which efficiently checks the API key without retrieving unnecessary data.\n"
   ]
  },
  {
   "cell_type": "code",
   "execution_count": 3,
   "id": "503719f9-139d-41c3-8e9b-6224d4cac5e8",
   "metadata": {},
   "outputs": [
    {
     "name": "stdin",
     "output_type": "stream",
     "text": [
      "Enter your API Key ········\n"
     ]
    },
    {
     "name": "stdout",
     "output_type": "stream",
     "text": [
      "API key is valid.\n"
     ]
    }
   ],
   "source": [
    "import requests\n",
    "from getpass import getpass\n",
    "\n",
    "maxar_api_key = getpass(\"Enter your API Key\")\n",
    "\n",
    "url = \"https://api.maxar.com/streaming/v1/ogc/ows?service=WFS&request=DescribeFeatureType&version=2.0.0&maxar_api_key=\"\n",
    "\n",
    "headers = {\n",
    "  'Accept': 'application/geo+json',\n",
    "  'MAXAR-API-KEY': maxar_api_key\n",
    "}\n",
    "\n",
    "try:\n",
    "    response = requests.head(url, headers=headers)\n",
    "    \n",
    "    if response.status_code == 200:\n",
    "        print(\"API key is valid.\")\n",
    "    else:\n",
    "        print(f\"API key validation failed with status code: {response.status_code}\")\n",
    "        \n",
    "except requests.RequestException as e:\n",
    "    print(f\"Error checking API key: {e}\")"
   ]
  },
  {
   "cell_type": "markdown",
   "id": "629501b9-2661-436d-b298-dd6acab218a8",
   "metadata": {},
   "source": [
    "## Key Parameters in the Search Panel\n",
    "\n",
    "### Filters  \n",
    "These parameters allow you to refine your search results based on specific criteria. Examples of how each filter is used are available in the search panel.\n",
    "\n",
    "- **Catalog ID**: Display a specific image using its Catalog ID.  \n",
    "  - Field: `legacyIdentifier`  \n",
    "  - Example: `legacyIdentifier='1020010107DFF400'`\n",
    "\n",
    "- **Date Range**: Show images within a specific date range.  \n",
    "  - Field: `acquisitionDate`  \n",
    "  - Example:  \n",
    "    - `acquisitionDate > '2022-08-15' AND acquisitionDate < '2024-08-15'`\n",
    "\n",
    "- **Feature ID**: Display images by their Feature ID, used for the image's vector footprint.  \n",
    "  - Field: `featureId`  \n",
    "  - Example: `featureId='99cdc53d-bba1-8eca-e19a-f25ddc4d540d'`\n",
    "\n",
    "- **Ground Sample Distance**: Filter images by ground sample distance in meters (pixel resolution).  \n",
    "  - Field: `groundSampleDistance`  \n",
    "  - Example:  \n",
    "    - `groundSampleDistance BETWEEN 0.7 AND 1.0`\n",
    "\n",
    "- **Satellite Name**: Display images from specific satellites (e.g., WV01, WV02, GE01).  \n",
    "  - Field: `source`  \n",
    "  - Examples:  \n",
    "    - `source = 'WV01'`  \n",
    "    - `source IN ('WV03_VNIR', 'LG01')`  \n",
    "\n",
    "- **Cloud Cover Percent**: Filter images by the percentage of cloud coverage.  \n",
    "  - Field: `cloudCover`  \n",
    "  - Example: `cloudCover < 20`\n",
    "\n",
    "- **Off-nadir Angle**: Filter images by their off-nadir angle (lower values indicate straighter down views).  \n",
    "  - Field: `offNadirAngle`  \n",
    "  - Example: `offNadirAngle < 10`\n",
    "\n",
    "- **Sun Angle**: Filter images by sun angle.  \n",
    "  - Field: `sunElevation`  \n",
    "  - Example: `sunElevation > 60`\n",
    "\n",
    "---\n",
    "\n",
    "### Sorts  \n",
    "These parameters allow you to sort the search results. Examples of usage are provided in the search panel.\n",
    "\n",
    "- **Date Range**: Sort results by acquisition date.  \n",
    "  - Examples:  \n",
    "    - Ascending: `acquisitionDate A`  \n",
    "    - Descending: `acquisitionDate D`\n",
    "\n",
    "- **Ground Sample Distance**: Sort results by ground sample distance.  \n",
    "  - Examples:  \n",
    "    - Ascending: `groundSampleDistance A`  \n",
    "    - Descending: `groundSampleDistance D`\n",
    "\n",
    "\n",
    "---\n",
    "\n",
    "For more information, please refer to the [API Documentation](https://developers.maxar.com/docs/streaming-basemap/guides/basemap-api-guide)."
   ]
  },
  {
   "cell_type": "markdown",
   "id": "8c12c00d-d0e5-43e9-ba4a-a7b98f388379",
   "metadata": {},
   "source": [
    "## Define the `cql_filter`  and `sortBy` Parameters\n",
    "\n",
    "The available options for filtering and sorting parameters are defined in the lists above. The values selected from those lists will be used in the filtering and sorting examples below.\n",
    "\n",
    "### Filtering Parameters:\n",
    "- Filtering parameters such as `acquisitionDate` and `cloudCover` are defined as variables. These values are stored in a list (`cql_filter_params`), and then joined using the `AND` operator to form the final `cql_filter` that will be used in the query.\n",
    "\n",
    "### Sorting Parameters:\n",
    "- Similarly, sorting parameters (e.g., `acquisitionDate`) are defined and stored in the list (`sort_by_params`). These are also joined using the AND operator to create the final sortBy."
   ]
  },
  {
   "cell_type": "code",
   "execution_count": 4,
   "id": "89529a0e-7552-445d-a04f-77af2774bddd",
   "metadata": {},
   "outputs": [
    {
     "name": "stdout",
     "output_type": "stream",
     "text": [
      "CQL Filter:\n",
      "acquisitionDate BETWEEN '2022-08-15' AND '2024-08-15' AND cloudCover < 20\n",
      "\n",
      "Sort By:\n",
      "acquisitionDate D\n"
     ]
    }
   ],
   "source": [
    "#Filtering Parameters\n",
    "acquisitionDate=\"BETWEEN '2022-08-15' AND '2024-08-15'\"\n",
    "cloudCover=\"< 20\"\n",
    "\n",
    "cql_filter_params = [\n",
    "    f\"acquisitionDate {acquisitionDate}\",\n",
    "    f\"cloudCover {cloudCover}\"\n",
    "]\n",
    "\n",
    "cql_filter = \" AND \".join(cql_filter_params)\n",
    "\n",
    "\n",
    "#Sorting Parameters\n",
    "acquisitionDate_sort=\"D\"\n",
    "\n",
    "sort_by_params = [\n",
    "    f\"acquisitionDate {acquisitionDate_sort}\"\n",
    "]\n",
    "\n",
    "sortBy = \" AND \".join(sort_by_params)\n",
    "\n",
    "print(\"CQL Filter:\")\n",
    "print(cql_filter)\n",
    "print(\"\\nSort By:\")\n",
    "print(sortBy)\n",
    "\n"
   ]
  },
  {
   "cell_type": "markdown",
   "id": "573c8103-e89e-4f24-bf21-2b71a7ab8274",
   "metadata": {},
   "source": [
    "# Default Interactive Map\n",
    "\n",
    "This is the **default map** displayed when starting the app. It is centered on Denver, Colorado. By adding **filter** and **sort parameters**, you will be able to interact with the map to visualize specific data later.\n"
   ]
  },
  {
   "cell_type": "code",
   "execution_count": 5,
   "id": "887ea683-50b5-49b3-ac98-ee142e8d8ac1",
   "metadata": {
    "scrolled": true
   },
   "outputs": [
    {
     "data": {
      "application/vnd.jupyter.widget-view+json": {
       "model_id": "a4e791d4bc884e889c6f4f7267f331d9",
       "version_major": 2,
       "version_minor": 0
      },
      "text/plain": [
       "Map(center=[39.57, -105.045], controls=(ZoomControl(options=['position', 'zoom_in_text', 'zoom_in_title', 'zoo…"
      ]
     },
     "execution_count": 5,
     "metadata": {},
     "output_type": "execute_result"
    }
   ],
   "source": [
    "from ipyleaflet import Map, basemaps, basemap_to_tiles\n",
    "\n",
    "default_map = Map(center=(39.57, -105.045), zoom=8)\n",
    "tile_layer = basemap_to_tiles(basemaps.OpenStreetMap.Mapnik)\n",
    "default_map.add_layer(tile_layer)\n",
    "\n",
    "default_map"
   ]
  },
  {
   "cell_type": "markdown",
   "id": "c7347a51-8d5a-46c2-8b02-385227b9ee33",
   "metadata": {},
   "source": [
    "# Displaying Search Results on an Interactive Map\n",
    "\n",
    "The following cell uses `ipyleaflet` to create an interactive map that allows you to explore imagery from the WMS API. The map dynamically loads and displays basemap imagery based on predefined filtering criteria when a button is clicked. Here's what the code does:\n",
    "\n",
    "1. **Initialize the Map**:  \n",
    "   Sets up a base map at a specific location with a zoom level of 8.\n",
    "\n",
    "2. **Define the WMS Layer**:  \n",
    "   Configures a `WMSLayer` to stream imagery from the Maxar API. The layer applies filtering criteria (e.g., `groundSampleDistance`, `cloudCover`, and `acquisitionDate`) using a `CQL` filter to ensure the results meet the specified conditions.\n",
    "\n",
    "3. **Load Results**:  \n",
    "   Clicking the button labeled \"Load WMS →\" triggers the map to load and display the WMS layer.\n"
   ]
  },
  {
   "cell_type": "code",
   "execution_count": 6,
   "id": "5db994a3-b67e-4051-868b-9e3515e134fa",
   "metadata": {},
   "outputs": [
    {
     "data": {
      "application/vnd.jupyter.widget-view+json": {
       "model_id": "5f80476d73cb4b2fb8a147662d9068b3",
       "version_major": 2,
       "version_minor": 0
      },
      "text/plain": [
       "VBox(children=(Map(center=[39.57, -105.045], controls=(ZoomControl(options=['position', 'zoom_in_text', 'zoom_…"
      ]
     },
     "metadata": {},
     "output_type": "display_data"
    }
   ],
   "source": [
    "from ipyleaflet import Map, WMSLayer, basemaps, projections\n",
    "from ipywidgets import Button, VBox\n",
    "from IPython.display import display\n",
    "\n",
    "m = Map(center=(39.57, -105.045), zoom=8)\n",
    "\n",
    "wms_layer = WMSLayer(\n",
    "    url=f\"https://api.maxar.com/streaming/v1/ogc/wms?maxar_api_key={maxar_api_key}\",\n",
    "    layers=\"Maxar:Imagery\",\n",
    "    format=\"image/vnd.jpeg-png\",\n",
    "    transparent=True,\n",
    "    version=\"1.3.0\",\n",
    "    crs=projections.EPSG4326,\n",
    "    tile_size=512,\n",
    "    cql_filter=cql_filter,\n",
    "    sortBy=sortBy\n",
    ")\n",
    "\n",
    "# Button to load the WMS layer\n",
    "load_button = Button(description=\"Load →\")\n",
    "\n",
    "def on_load_button_click(change):\n",
    "    if wms_layer not in m.layers:\n",
    "        m.add(wms_layer)\n",
    "        print(\"WMS layer loaded.\")\n",
    "    else:\n",
    "        print(\"WMS layer already loaded.\")\n",
    "\n",
    "load_button.on_click(on_load_button_click)\n",
    "\n",
    "ui = VBox([m, load_button])\n",
    "display(ui)\n"
   ]
  },
  {
   "cell_type": "markdown",
   "id": "8556970f-d247-4259-9652-7f086ad74a8a",
   "metadata": {},
   "source": [
    "## Loading WFS Results\n",
    "\n",
    "When a WMS request is made and the tiles load, each tile contains data. To access this data, simply click a tile on the map. This will trigger a call to the WFS endpoint to retrieve the information for the selected tile/coordinates. In the app, a popup displaying the data would appear on the screen. However, in this example, clicking on a tile will print the information below the map instead.\n"
   ]
  },
  {
   "cell_type": "code",
   "execution_count": 7,
   "id": "986101be-86ce-41bc-b93f-6b757d5d6286",
   "metadata": {},
   "outputs": [
    {
     "data": {
      "application/vnd.jupyter.widget-view+json": {
       "model_id": "b9764d16efbb448896f1207f41afde96",
       "version_major": 2,
       "version_minor": 0
      },
      "text/plain": [
       "VBox(children=(Map(center=[39.57, -105.045], controls=(ZoomControl(options=['position', 'zoom_in_text', 'zoom_…"
      ]
     },
     "execution_count": 7,
     "metadata": {},
     "output_type": "execute_result"
    }
   ],
   "source": [
    "from ipyleaflet import Map, WMSLayer, projections\n",
    "from ipywidgets import Output, VBox\n",
    "import requests\n",
    "\n",
    "wfs_url_template = (\n",
    "    \"https://api.maxar.com/streaming/v1/ogc/wfs?\"\n",
    "    \"service=WFS&request=GetFeature&version=2.0.0&typeNames=Maxar:FinishedFeature\"\n",
    "    \"&outputFormat=application/json\"\n",
    "    \"&cql_filter=BBOX(featureGeometry,{bbox},'EPSG:4326') AND {cql_filter} \"\n",
    "    \"&sortBy={sortBy}\"\n",
    "    \"&maxar_api_key={maxar_api_key}\"\n",
    ")\n",
    "\n",
    "m = Map(center=(39.57, -105.045), zoom=8)\n",
    "\n",
    "wms_layer = WMSLayer(\n",
    "    url=f\"https://api.maxar.com/streaming/v1/ogc/wms?maxar_api_key={maxar_api_key}\",\n",
    "    layers=\"Maxar:Imagery\",\n",
    "    format=\"image/vnd.jpeg-png\",\n",
    "    transparent=True,\n",
    "    version=\"1.3.0\",\n",
    "    crs=projections.EPSG4326,\n",
    "    tile_size=512,\n",
    "    cql_filter=cql_filter,\n",
    "    sortBy=sortBy\n",
    ")\n",
    "m.add(wms_layer)\n",
    "\n",
    "output = Output()\n",
    "\n",
    "def handle_map_click(**kwargs):\n",
    "    if kwargs.get(\"type\") == \"click\":\n",
    "        print(\"Clicking\")\n",
    "        lat, lng = kwargs[\"coordinates\"]\n",
    "        delta = 0.01  # Small delta for bbox calculation\n",
    "\n",
    "        bbox = f\"{lng-delta},{lat-delta},{lng+delta},{lat+delta}\"\n",
    "\n",
    "        # Construct WFS URL with dynamic bbox\n",
    "        wfs_url = wfs_url_template.format(bbox=bbox, cql_filter=cql_filter, sortBy=sortBy, maxar_api_key=maxar_api_key)\n",
    "\n",
    "        # Fetch data from WFS endpoint\n",
    "        response = requests.get(wfs_url)\n",
    "        with output:\n",
    "            output.clear_output()\n",
    "            if response.status_code == 200:\n",
    "                try:\n",
    "                    wfs_data = response.json()\n",
    "                    features = wfs_data.get(\"features\", [])\n",
    "                    if features:\n",
    "                        print(\"WFS Response:\")\n",
    "                        for feature in features:\n",
    "                            feature_id = feature.get(\"id\")\n",
    "                            properties = feature.get(\"properties\", {})\n",
    "                            print(f\"\\nID: {feature_id}\")\n",
    "                            for key, value in properties.items():\n",
    "                                print(f\"  {key}: {value}\")\n",
    "                    else:\n",
    "                        print(\"No data available for the selected location.\")\n",
    "                except requests.exceptions.JSONDecodeError:\n",
    "                    print(\"Failed to parse WFS response.\")\n",
    "            else:\n",
    "                print(f\"Failed to retrieve WFS data. Status code: {response.status_code}\")\n",
    "\n",
    "# Attach click event handler to the map\n",
    "m.on_interaction(handle_map_click)\n",
    "\n",
    "ui = VBox([m, output])\n",
    "ui\n"
   ]
  },
  {
   "cell_type": "code",
   "execution_count": null,
   "id": "026dc7a6-7688-45b3-ba6e-75b5ab2931c6",
   "metadata": {},
   "outputs": [],
   "source": []
  }
 ],
 "metadata": {
  "kernelspec": {
   "display_name": "Python 3 (ipykernel)",
   "language": "python",
   "name": "python3"
  },
  "language_info": {
   "codemirror_mode": {
    "name": "ipython",
    "version": 3
   },
   "file_extension": ".py",
   "mimetype": "text/x-python",
   "name": "python",
   "nbconvert_exporter": "python",
   "pygments_lexer": "ipython3",
   "version": "3.10.3"
  }
 },
 "nbformat": 4,
 "nbformat_minor": 5
}